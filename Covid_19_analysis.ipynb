{
  "cells": [
    {
      "cell_type": "code",
      "execution_count": 1,
      "metadata": {
        "id": "SooXrdH2YXvr"
      },
      "outputs": [],
      "source": [
        "import  pandas as pd\n",
        "import numpy as np\n",
        "import matplotlib.pyplot as plt\n",
        "import seaborn as sns\n",
        "from sklearn import linear_model\n",
        "from sklearn.metrics import r2_score, mean_squared_error\n",
        "%matplotlib inline"
      ]
    },
    {
      "cell_type": "code",
      "execution_count": 2,
      "metadata": {
        "colab": {
          "base_uri": "https://localhost:8080/",
          "height": 73
        },
        "id": "vgIBjLH6Ym84",
        "outputId": "405414cb-7dee-4c4c-a498-6ca9c65e9633"
      },
      "outputs": [],
      "source": [
        "df= pd.read_csv(\"covid19_Confirmed_dataset.csv\")"
      ]
    },
    {
      "cell_type": "code",
      "execution_count": 3,
      "metadata": {
        "colab": {
          "base_uri": "https://localhost:8080/",
          "height": 299
        },
        "id": "F4oijjQoYm_D",
        "outputId": "40190333-e4ae-4497-bfc1-39378e5fd751"
      },
      "outputs": [
        {
          "data": {
            "text/html": [
              "<div>\n",
              "<style scoped>\n",
              "    .dataframe tbody tr th:only-of-type {\n",
              "        vertical-align: middle;\n",
              "    }\n",
              "\n",
              "    .dataframe tbody tr th {\n",
              "        vertical-align: top;\n",
              "    }\n",
              "\n",
              "    .dataframe thead th {\n",
              "        text-align: right;\n",
              "    }\n",
              "</style>\n",
              "<table border=\"1\" class=\"dataframe\">\n",
              "  <thead>\n",
              "    <tr style=\"text-align: right;\">\n",
              "      <th></th>\n",
              "      <th>Province/State</th>\n",
              "      <th>Country/Region</th>\n",
              "      <th>Lat</th>\n",
              "      <th>Long</th>\n",
              "      <th>1/22/20</th>\n",
              "      <th>1/23/20</th>\n",
              "      <th>1/24/20</th>\n",
              "      <th>1/25/20</th>\n",
              "      <th>1/26/20</th>\n",
              "      <th>1/27/20</th>\n",
              "      <th>...</th>\n",
              "      <th>4/21/20</th>\n",
              "      <th>4/22/20</th>\n",
              "      <th>4/23/20</th>\n",
              "      <th>4/24/20</th>\n",
              "      <th>4/25/20</th>\n",
              "      <th>4/26/20</th>\n",
              "      <th>4/27/20</th>\n",
              "      <th>4/28/20</th>\n",
              "      <th>4/29/20</th>\n",
              "      <th>4/30/20</th>\n",
              "    </tr>\n",
              "  </thead>\n",
              "  <tbody>\n",
              "    <tr>\n",
              "      <th>0</th>\n",
              "      <td>NaN</td>\n",
              "      <td>Afghanistan</td>\n",
              "      <td>33.0000</td>\n",
              "      <td>65.0000</td>\n",
              "      <td>0</td>\n",
              "      <td>0</td>\n",
              "      <td>0</td>\n",
              "      <td>0</td>\n",
              "      <td>0</td>\n",
              "      <td>0</td>\n",
              "      <td>...</td>\n",
              "      <td>1092</td>\n",
              "      <td>1176</td>\n",
              "      <td>1279</td>\n",
              "      <td>1351</td>\n",
              "      <td>1463</td>\n",
              "      <td>1531</td>\n",
              "      <td>1703</td>\n",
              "      <td>1828</td>\n",
              "      <td>1939</td>\n",
              "      <td>2171</td>\n",
              "    </tr>\n",
              "    <tr>\n",
              "      <th>1</th>\n",
              "      <td>NaN</td>\n",
              "      <td>Albania</td>\n",
              "      <td>41.1533</td>\n",
              "      <td>20.1683</td>\n",
              "      <td>0</td>\n",
              "      <td>0</td>\n",
              "      <td>0</td>\n",
              "      <td>0</td>\n",
              "      <td>0</td>\n",
              "      <td>0</td>\n",
              "      <td>...</td>\n",
              "      <td>609</td>\n",
              "      <td>634</td>\n",
              "      <td>663</td>\n",
              "      <td>678</td>\n",
              "      <td>712</td>\n",
              "      <td>726</td>\n",
              "      <td>736</td>\n",
              "      <td>750</td>\n",
              "      <td>766</td>\n",
              "      <td>773</td>\n",
              "    </tr>\n",
              "    <tr>\n",
              "      <th>2</th>\n",
              "      <td>NaN</td>\n",
              "      <td>Algeria</td>\n",
              "      <td>28.0339</td>\n",
              "      <td>1.6596</td>\n",
              "      <td>0</td>\n",
              "      <td>0</td>\n",
              "      <td>0</td>\n",
              "      <td>0</td>\n",
              "      <td>0</td>\n",
              "      <td>0</td>\n",
              "      <td>...</td>\n",
              "      <td>2811</td>\n",
              "      <td>2910</td>\n",
              "      <td>3007</td>\n",
              "      <td>3127</td>\n",
              "      <td>3256</td>\n",
              "      <td>3382</td>\n",
              "      <td>3517</td>\n",
              "      <td>3649</td>\n",
              "      <td>3848</td>\n",
              "      <td>4006</td>\n",
              "    </tr>\n",
              "    <tr>\n",
              "      <th>3</th>\n",
              "      <td>NaN</td>\n",
              "      <td>Andorra</td>\n",
              "      <td>42.5063</td>\n",
              "      <td>1.5218</td>\n",
              "      <td>0</td>\n",
              "      <td>0</td>\n",
              "      <td>0</td>\n",
              "      <td>0</td>\n",
              "      <td>0</td>\n",
              "      <td>0</td>\n",
              "      <td>...</td>\n",
              "      <td>717</td>\n",
              "      <td>723</td>\n",
              "      <td>723</td>\n",
              "      <td>731</td>\n",
              "      <td>738</td>\n",
              "      <td>738</td>\n",
              "      <td>743</td>\n",
              "      <td>743</td>\n",
              "      <td>743</td>\n",
              "      <td>745</td>\n",
              "    </tr>\n",
              "    <tr>\n",
              "      <th>4</th>\n",
              "      <td>NaN</td>\n",
              "      <td>Angola</td>\n",
              "      <td>-11.2027</td>\n",
              "      <td>17.8739</td>\n",
              "      <td>0</td>\n",
              "      <td>0</td>\n",
              "      <td>0</td>\n",
              "      <td>0</td>\n",
              "      <td>0</td>\n",
              "      <td>0</td>\n",
              "      <td>...</td>\n",
              "      <td>24</td>\n",
              "      <td>25</td>\n",
              "      <td>25</td>\n",
              "      <td>25</td>\n",
              "      <td>25</td>\n",
              "      <td>26</td>\n",
              "      <td>27</td>\n",
              "      <td>27</td>\n",
              "      <td>27</td>\n",
              "      <td>27</td>\n",
              "    </tr>\n",
              "  </tbody>\n",
              "</table>\n",
              "<p>5 rows × 104 columns</p>\n",
              "</div>"
            ],
            "text/plain": [
              "  Province/State Country/Region      Lat     Long  1/22/20  1/23/20  1/24/20  \\\n",
              "0            NaN    Afghanistan  33.0000  65.0000        0        0        0   \n",
              "1            NaN        Albania  41.1533  20.1683        0        0        0   \n",
              "2            NaN        Algeria  28.0339   1.6596        0        0        0   \n",
              "3            NaN        Andorra  42.5063   1.5218        0        0        0   \n",
              "4            NaN         Angola -11.2027  17.8739        0        0        0   \n",
              "\n",
              "   1/25/20  1/26/20  1/27/20  ...  4/21/20  4/22/20  4/23/20  4/24/20  \\\n",
              "0        0        0        0  ...     1092     1176     1279     1351   \n",
              "1        0        0        0  ...      609      634      663      678   \n",
              "2        0        0        0  ...     2811     2910     3007     3127   \n",
              "3        0        0        0  ...      717      723      723      731   \n",
              "4        0        0        0  ...       24       25       25       25   \n",
              "\n",
              "   4/25/20  4/26/20  4/27/20  4/28/20  4/29/20  4/30/20  \n",
              "0     1463     1531     1703     1828     1939     2171  \n",
              "1      712      726      736      750      766      773  \n",
              "2     3256     3382     3517     3649     3848     4006  \n",
              "3      738      738      743      743      743      745  \n",
              "4       25       26       27       27       27       27  \n",
              "\n",
              "[5 rows x 104 columns]"
            ]
          },
          "execution_count": 3,
          "metadata": {},
          "output_type": "execute_result"
        }
      ],
      "source": [
        "df.head()"
      ]
    },
    {
      "cell_type": "code",
      "execution_count": 4,
      "metadata": {
        "colab": {
          "base_uri": "https://localhost:8080/"
        },
        "id": "KQ-1uXPfYnB0",
        "outputId": "fd6f85cf-e086-4c50-a43a-34e907b988a6"
      },
      "outputs": [
        {
          "data": {
            "text/plain": [
              "(266, 104)"
            ]
          },
          "execution_count": 4,
          "metadata": {},
          "output_type": "execute_result"
        }
      ],
      "source": [
        "df.shape"
      ]
    },
    {
      "cell_type": "code",
      "execution_count": 5,
      "metadata": {
        "id": "VOnuvBaQZA9B"
      },
      "outputs": [],
      "source": [
        "df.drop(['Lat', 'Long'], axis= 1, inplace= True)"
      ]
    },
    {
      "cell_type": "code",
      "execution_count": 6,
      "metadata": {
        "colab": {
          "base_uri": "https://localhost:8080/",
          "height": 299
        },
        "id": "K4KFo-0kZBAE",
        "outputId": "439493ca-af3a-4a87-b277-93d7a5af5974"
      },
      "outputs": [
        {
          "data": {
            "text/html": [
              "<div>\n",
              "<style scoped>\n",
              "    .dataframe tbody tr th:only-of-type {\n",
              "        vertical-align: middle;\n",
              "    }\n",
              "\n",
              "    .dataframe tbody tr th {\n",
              "        vertical-align: top;\n",
              "    }\n",
              "\n",
              "    .dataframe thead th {\n",
              "        text-align: right;\n",
              "    }\n",
              "</style>\n",
              "<table border=\"1\" class=\"dataframe\">\n",
              "  <thead>\n",
              "    <tr style=\"text-align: right;\">\n",
              "      <th></th>\n",
              "      <th>Province/State</th>\n",
              "      <th>Country/Region</th>\n",
              "      <th>1/22/20</th>\n",
              "      <th>1/23/20</th>\n",
              "      <th>1/24/20</th>\n",
              "      <th>1/25/20</th>\n",
              "      <th>1/26/20</th>\n",
              "      <th>1/27/20</th>\n",
              "      <th>1/28/20</th>\n",
              "      <th>1/29/20</th>\n",
              "      <th>...</th>\n",
              "      <th>4/21/20</th>\n",
              "      <th>4/22/20</th>\n",
              "      <th>4/23/20</th>\n",
              "      <th>4/24/20</th>\n",
              "      <th>4/25/20</th>\n",
              "      <th>4/26/20</th>\n",
              "      <th>4/27/20</th>\n",
              "      <th>4/28/20</th>\n",
              "      <th>4/29/20</th>\n",
              "      <th>4/30/20</th>\n",
              "    </tr>\n",
              "  </thead>\n",
              "  <tbody>\n",
              "    <tr>\n",
              "      <th>0</th>\n",
              "      <td>NaN</td>\n",
              "      <td>Afghanistan</td>\n",
              "      <td>0</td>\n",
              "      <td>0</td>\n",
              "      <td>0</td>\n",
              "      <td>0</td>\n",
              "      <td>0</td>\n",
              "      <td>0</td>\n",
              "      <td>0</td>\n",
              "      <td>0</td>\n",
              "      <td>...</td>\n",
              "      <td>1092</td>\n",
              "      <td>1176</td>\n",
              "      <td>1279</td>\n",
              "      <td>1351</td>\n",
              "      <td>1463</td>\n",
              "      <td>1531</td>\n",
              "      <td>1703</td>\n",
              "      <td>1828</td>\n",
              "      <td>1939</td>\n",
              "      <td>2171</td>\n",
              "    </tr>\n",
              "    <tr>\n",
              "      <th>1</th>\n",
              "      <td>NaN</td>\n",
              "      <td>Albania</td>\n",
              "      <td>0</td>\n",
              "      <td>0</td>\n",
              "      <td>0</td>\n",
              "      <td>0</td>\n",
              "      <td>0</td>\n",
              "      <td>0</td>\n",
              "      <td>0</td>\n",
              "      <td>0</td>\n",
              "      <td>...</td>\n",
              "      <td>609</td>\n",
              "      <td>634</td>\n",
              "      <td>663</td>\n",
              "      <td>678</td>\n",
              "      <td>712</td>\n",
              "      <td>726</td>\n",
              "      <td>736</td>\n",
              "      <td>750</td>\n",
              "      <td>766</td>\n",
              "      <td>773</td>\n",
              "    </tr>\n",
              "    <tr>\n",
              "      <th>2</th>\n",
              "      <td>NaN</td>\n",
              "      <td>Algeria</td>\n",
              "      <td>0</td>\n",
              "      <td>0</td>\n",
              "      <td>0</td>\n",
              "      <td>0</td>\n",
              "      <td>0</td>\n",
              "      <td>0</td>\n",
              "      <td>0</td>\n",
              "      <td>0</td>\n",
              "      <td>...</td>\n",
              "      <td>2811</td>\n",
              "      <td>2910</td>\n",
              "      <td>3007</td>\n",
              "      <td>3127</td>\n",
              "      <td>3256</td>\n",
              "      <td>3382</td>\n",
              "      <td>3517</td>\n",
              "      <td>3649</td>\n",
              "      <td>3848</td>\n",
              "      <td>4006</td>\n",
              "    </tr>\n",
              "    <tr>\n",
              "      <th>3</th>\n",
              "      <td>NaN</td>\n",
              "      <td>Andorra</td>\n",
              "      <td>0</td>\n",
              "      <td>0</td>\n",
              "      <td>0</td>\n",
              "      <td>0</td>\n",
              "      <td>0</td>\n",
              "      <td>0</td>\n",
              "      <td>0</td>\n",
              "      <td>0</td>\n",
              "      <td>...</td>\n",
              "      <td>717</td>\n",
              "      <td>723</td>\n",
              "      <td>723</td>\n",
              "      <td>731</td>\n",
              "      <td>738</td>\n",
              "      <td>738</td>\n",
              "      <td>743</td>\n",
              "      <td>743</td>\n",
              "      <td>743</td>\n",
              "      <td>745</td>\n",
              "    </tr>\n",
              "    <tr>\n",
              "      <th>4</th>\n",
              "      <td>NaN</td>\n",
              "      <td>Angola</td>\n",
              "      <td>0</td>\n",
              "      <td>0</td>\n",
              "      <td>0</td>\n",
              "      <td>0</td>\n",
              "      <td>0</td>\n",
              "      <td>0</td>\n",
              "      <td>0</td>\n",
              "      <td>0</td>\n",
              "      <td>...</td>\n",
              "      <td>24</td>\n",
              "      <td>25</td>\n",
              "      <td>25</td>\n",
              "      <td>25</td>\n",
              "      <td>25</td>\n",
              "      <td>26</td>\n",
              "      <td>27</td>\n",
              "      <td>27</td>\n",
              "      <td>27</td>\n",
              "      <td>27</td>\n",
              "    </tr>\n",
              "  </tbody>\n",
              "</table>\n",
              "<p>5 rows × 102 columns</p>\n",
              "</div>"
            ],
            "text/plain": [
              "  Province/State Country/Region  1/22/20  1/23/20  1/24/20  1/25/20  1/26/20  \\\n",
              "0            NaN    Afghanistan        0        0        0        0        0   \n",
              "1            NaN        Albania        0        0        0        0        0   \n",
              "2            NaN        Algeria        0        0        0        0        0   \n",
              "3            NaN        Andorra        0        0        0        0        0   \n",
              "4            NaN         Angola        0        0        0        0        0   \n",
              "\n",
              "   1/27/20  1/28/20  1/29/20  ...  4/21/20  4/22/20  4/23/20  4/24/20  \\\n",
              "0        0        0        0  ...     1092     1176     1279     1351   \n",
              "1        0        0        0  ...      609      634      663      678   \n",
              "2        0        0        0  ...     2811     2910     3007     3127   \n",
              "3        0        0        0  ...      717      723      723      731   \n",
              "4        0        0        0  ...       24       25       25       25   \n",
              "\n",
              "   4/25/20  4/26/20  4/27/20  4/28/20  4/29/20  4/30/20  \n",
              "0     1463     1531     1703     1828     1939     2171  \n",
              "1      712      726      736      750      766      773  \n",
              "2     3256     3382     3517     3649     3848     4006  \n",
              "3      738      738      743      743      743      745  \n",
              "4       25       26       27       27       27       27  \n",
              "\n",
              "[5 rows x 102 columns]"
            ]
          },
          "execution_count": 6,
          "metadata": {},
          "output_type": "execute_result"
        }
      ],
      "source": [
        "df.head()"
      ]
    },
    {
      "cell_type": "code",
      "execution_count": 7,
      "metadata": {
        "colab": {
          "base_uri": "https://localhost:8080/",
          "height": 365
        },
        "id": "XItM4w7nZBC5",
        "outputId": "f002fcaa-832b-486c-b85c-1d63bfa0bf00"
      },
      "outputs": [
        {
          "name": "stderr",
          "output_type": "stream",
          "text": [
            "C:\\Users\\bhatt\\AppData\\Local\\Temp\\ipykernel_8616\\3391338952.py:1: FutureWarning: The default value of numeric_only in DataFrameGroupBy.sum is deprecated. In a future version, numeric_only will default to False. Either specify numeric_only or select only columns which should be valid for the function.\n",
            "  data= df.groupby('Country/Region').sum()\n"
          ]
        },
        {
          "data": {
            "text/html": [
              "<div>\n",
              "<style scoped>\n",
              "    .dataframe tbody tr th:only-of-type {\n",
              "        vertical-align: middle;\n",
              "    }\n",
              "\n",
              "    .dataframe tbody tr th {\n",
              "        vertical-align: top;\n",
              "    }\n",
              "\n",
              "    .dataframe thead th {\n",
              "        text-align: right;\n",
              "    }\n",
              "</style>\n",
              "<table border=\"1\" class=\"dataframe\">\n",
              "  <thead>\n",
              "    <tr style=\"text-align: right;\">\n",
              "      <th></th>\n",
              "      <th>1/22/20</th>\n",
              "      <th>1/23/20</th>\n",
              "      <th>1/24/20</th>\n",
              "      <th>1/25/20</th>\n",
              "      <th>1/26/20</th>\n",
              "      <th>1/27/20</th>\n",
              "      <th>1/28/20</th>\n",
              "      <th>1/29/20</th>\n",
              "      <th>1/30/20</th>\n",
              "      <th>1/31/20</th>\n",
              "      <th>...</th>\n",
              "      <th>4/21/20</th>\n",
              "      <th>4/22/20</th>\n",
              "      <th>4/23/20</th>\n",
              "      <th>4/24/20</th>\n",
              "      <th>4/25/20</th>\n",
              "      <th>4/26/20</th>\n",
              "      <th>4/27/20</th>\n",
              "      <th>4/28/20</th>\n",
              "      <th>4/29/20</th>\n",
              "      <th>4/30/20</th>\n",
              "    </tr>\n",
              "    <tr>\n",
              "      <th>Country/Region</th>\n",
              "      <th></th>\n",
              "      <th></th>\n",
              "      <th></th>\n",
              "      <th></th>\n",
              "      <th></th>\n",
              "      <th></th>\n",
              "      <th></th>\n",
              "      <th></th>\n",
              "      <th></th>\n",
              "      <th></th>\n",
              "      <th></th>\n",
              "      <th></th>\n",
              "      <th></th>\n",
              "      <th></th>\n",
              "      <th></th>\n",
              "      <th></th>\n",
              "      <th></th>\n",
              "      <th></th>\n",
              "      <th></th>\n",
              "      <th></th>\n",
              "      <th></th>\n",
              "    </tr>\n",
              "  </thead>\n",
              "  <tbody>\n",
              "    <tr>\n",
              "      <th>Afghanistan</th>\n",
              "      <td>0</td>\n",
              "      <td>0</td>\n",
              "      <td>0</td>\n",
              "      <td>0</td>\n",
              "      <td>0</td>\n",
              "      <td>0</td>\n",
              "      <td>0</td>\n",
              "      <td>0</td>\n",
              "      <td>0</td>\n",
              "      <td>0</td>\n",
              "      <td>...</td>\n",
              "      <td>1092</td>\n",
              "      <td>1176</td>\n",
              "      <td>1279</td>\n",
              "      <td>1351</td>\n",
              "      <td>1463</td>\n",
              "      <td>1531</td>\n",
              "      <td>1703</td>\n",
              "      <td>1828</td>\n",
              "      <td>1939</td>\n",
              "      <td>2171</td>\n",
              "    </tr>\n",
              "    <tr>\n",
              "      <th>Albania</th>\n",
              "      <td>0</td>\n",
              "      <td>0</td>\n",
              "      <td>0</td>\n",
              "      <td>0</td>\n",
              "      <td>0</td>\n",
              "      <td>0</td>\n",
              "      <td>0</td>\n",
              "      <td>0</td>\n",
              "      <td>0</td>\n",
              "      <td>0</td>\n",
              "      <td>...</td>\n",
              "      <td>609</td>\n",
              "      <td>634</td>\n",
              "      <td>663</td>\n",
              "      <td>678</td>\n",
              "      <td>712</td>\n",
              "      <td>726</td>\n",
              "      <td>736</td>\n",
              "      <td>750</td>\n",
              "      <td>766</td>\n",
              "      <td>773</td>\n",
              "    </tr>\n",
              "    <tr>\n",
              "      <th>Algeria</th>\n",
              "      <td>0</td>\n",
              "      <td>0</td>\n",
              "      <td>0</td>\n",
              "      <td>0</td>\n",
              "      <td>0</td>\n",
              "      <td>0</td>\n",
              "      <td>0</td>\n",
              "      <td>0</td>\n",
              "      <td>0</td>\n",
              "      <td>0</td>\n",
              "      <td>...</td>\n",
              "      <td>2811</td>\n",
              "      <td>2910</td>\n",
              "      <td>3007</td>\n",
              "      <td>3127</td>\n",
              "      <td>3256</td>\n",
              "      <td>3382</td>\n",
              "      <td>3517</td>\n",
              "      <td>3649</td>\n",
              "      <td>3848</td>\n",
              "      <td>4006</td>\n",
              "    </tr>\n",
              "    <tr>\n",
              "      <th>Andorra</th>\n",
              "      <td>0</td>\n",
              "      <td>0</td>\n",
              "      <td>0</td>\n",
              "      <td>0</td>\n",
              "      <td>0</td>\n",
              "      <td>0</td>\n",
              "      <td>0</td>\n",
              "      <td>0</td>\n",
              "      <td>0</td>\n",
              "      <td>0</td>\n",
              "      <td>...</td>\n",
              "      <td>717</td>\n",
              "      <td>723</td>\n",
              "      <td>723</td>\n",
              "      <td>731</td>\n",
              "      <td>738</td>\n",
              "      <td>738</td>\n",
              "      <td>743</td>\n",
              "      <td>743</td>\n",
              "      <td>743</td>\n",
              "      <td>745</td>\n",
              "    </tr>\n",
              "    <tr>\n",
              "      <th>Angola</th>\n",
              "      <td>0</td>\n",
              "      <td>0</td>\n",
              "      <td>0</td>\n",
              "      <td>0</td>\n",
              "      <td>0</td>\n",
              "      <td>0</td>\n",
              "      <td>0</td>\n",
              "      <td>0</td>\n",
              "      <td>0</td>\n",
              "      <td>0</td>\n",
              "      <td>...</td>\n",
              "      <td>24</td>\n",
              "      <td>25</td>\n",
              "      <td>25</td>\n",
              "      <td>25</td>\n",
              "      <td>25</td>\n",
              "      <td>26</td>\n",
              "      <td>27</td>\n",
              "      <td>27</td>\n",
              "      <td>27</td>\n",
              "      <td>27</td>\n",
              "    </tr>\n",
              "  </tbody>\n",
              "</table>\n",
              "<p>5 rows × 100 columns</p>\n",
              "</div>"
            ],
            "text/plain": [
              "                1/22/20  1/23/20  1/24/20  1/25/20  1/26/20  1/27/20  1/28/20  \\\n",
              "Country/Region                                                                  \n",
              "Afghanistan           0        0        0        0        0        0        0   \n",
              "Albania               0        0        0        0        0        0        0   \n",
              "Algeria               0        0        0        0        0        0        0   \n",
              "Andorra               0        0        0        0        0        0        0   \n",
              "Angola                0        0        0        0        0        0        0   \n",
              "\n",
              "                1/29/20  1/30/20  1/31/20  ...  4/21/20  4/22/20  4/23/20  \\\n",
              "Country/Region                             ...                              \n",
              "Afghanistan           0        0        0  ...     1092     1176     1279   \n",
              "Albania               0        0        0  ...      609      634      663   \n",
              "Algeria               0        0        0  ...     2811     2910     3007   \n",
              "Andorra               0        0        0  ...      717      723      723   \n",
              "Angola                0        0        0  ...       24       25       25   \n",
              "\n",
              "                4/24/20  4/25/20  4/26/20  4/27/20  4/28/20  4/29/20  4/30/20  \n",
              "Country/Region                                                                 \n",
              "Afghanistan        1351     1463     1531     1703     1828     1939     2171  \n",
              "Albania             678      712      726      736      750      766      773  \n",
              "Algeria            3127     3256     3382     3517     3649     3848     4006  \n",
              "Andorra             731      738      738      743      743      743      745  \n",
              "Angola               25       25       26       27       27       27       27  \n",
              "\n",
              "[5 rows x 100 columns]"
            ]
          },
          "execution_count": 7,
          "metadata": {},
          "output_type": "execute_result"
        }
      ],
      "source": [
        "data= df.groupby('Country/Region').sum()\n",
        "data.head()"
      ]
    },
    {
      "cell_type": "code",
      "execution_count": 8,
      "metadata": {
        "colab": {
          "base_uri": "https://localhost:8080/"
        },
        "id": "UvJ1Lu7WZBF8",
        "outputId": "12ef683b-7998-4dbf-9898-bd573b38bab5"
      },
      "outputs": [
        {
          "data": {
            "text/plain": [
              "(187, 100)"
            ]
          },
          "execution_count": 8,
          "metadata": {},
          "output_type": "execute_result"
        }
      ],
      "source": [
        "data.shape"
      ]
    },
    {
      "cell_type": "code",
      "execution_count": 9,
      "metadata": {
        "colab": {
          "base_uri": "https://localhost:8080/",
          "height": 447
        },
        "id": "SJfdoQSxZBI2",
        "outputId": "3488ddd5-4b9f-4624-aa8f-ac4c863297b8"
      },
      "outputs": [
        {
          "data": {
            "text/plain": [
              "<matplotlib.legend.Legend at 0x13d487a0f90>"
            ]
          },
          "execution_count": 9,
          "metadata": {},
          "output_type": "execute_result"
        },
        {
          "data": {
            "image/png": "[encoded data removed]",
            "text/plain": [
              "<Figure size 640x480 with 1 Axes>"
            ]
          },
          "metadata": {},
          "output_type": "display_data"
        }
      ],
      "source": [
        "data.loc[\"China\"].plot(color='r')\n",
        "data.loc[\"India\"].plot(color= 'b')\n",
        "data.loc[\"Spain\"].plot(color= 'y')\n",
        "plt.legend()"
      ]
    },
    {
      "cell_type": "code",
      "execution_count": 10,
      "metadata": {
        "colab": {
          "base_uri": "https://localhost:8080/",
          "height": 447
        },
        "id": "M7Lp2yVYZBLO",
        "outputId": "61c61a28-a154-4ff5-ff65-8e8e86a09643"
      },
      "outputs": [
        {
          "data": {
            "text/plain": [
              "<Axes: >"
            ]
          },
          "execution_count": 10,
          "metadata": {},
          "output_type": "execute_result"
        },
        {
          "data": {
            "image/png": "[encoded data removed]",
            "text/plain": [
              "<Figure size 640x480 with 1 Axes>"
            ]
          },
          "metadata": {},
          "output_type": "display_data"
        }
      ],
      "source": [
        "data.loc[\"China\"][:3].plot()"
      ]
    },
    {
      "cell_type": "code",
      "execution_count": 11,
      "metadata": {
        "colab": {
          "base_uri": "https://localhost:8080/",
          "height": 447
        },
        "id": "w8zg7cNdatyV",
        "outputId": "a1247600-ba7a-4cd8-9adf-78bef9b25e63"
      },
      "outputs": [
        {
          "data": {
            "text/plain": [
              "<Axes: >"
            ]
          },
          "execution_count": 11,
          "metadata": {},
          "output_type": "execute_result"
        },
        {
          "data": {
            "image/png": "[encoded data removed]",
            "text/plain": [
              "<Figure size 640x480 with 1 Axes>"
            ]
          },
          "metadata": {},
          "output_type": "display_data"
        }
      ],
      "source": [
        "data.loc[\"China\"].diff().plot()"
      ]
    },
    {
      "cell_type": "code",
      "execution_count": 12,
      "metadata": {
        "colab": {
          "base_uri": "https://localhost:8080/"
        },
        "id": "fl6vJwWMat1I",
        "outputId": "f1da85b1-7da6-4f6d-f5f1-a72748b0379c"
      },
      "outputs": [
        {
          "data": {
            "text/plain": [
              "15136.0"
            ]
          },
          "execution_count": 12,
          "metadata": {},
          "output_type": "execute_result"
        }
      ],
      "source": [
        "data.loc[\"China\"].diff().max()"
      ]
    },
    {
      "cell_type": "code",
      "execution_count": 13,
      "metadata": {
        "colab": {
          "base_uri": "https://localhost:8080/"
        },
        "id": "IamZP1xQat4Y",
        "outputId": "d997c4b0-4d7a-44bc-9913-01daf8e7851b"
      },
      "outputs": [
        {
          "data": {
            "text/plain": [
              "1893.0"
            ]
          },
          "execution_count": 13,
          "metadata": {},
          "output_type": "execute_result"
        }
      ],
      "source": [
        "data.loc[\"India\"].diff().max()"
      ]
    },
    {
      "cell_type": "code",
      "execution_count": 14,
      "metadata": {
        "colab": {
          "base_uri": "https://localhost:8080/"
        },
        "id": "wdBY2wTOat7W",
        "outputId": "ec10e3c6-5ed2-4bb5-fb25-a2a86e465337"
      },
      "outputs": [
        {
          "data": {
            "text/plain": [
              "9630.0"
            ]
          },
          "execution_count": 14,
          "metadata": {},
          "output_type": "execute_result"
        }
      ],
      "source": [
        "data.loc[\"Spain\"].diff().max()"
      ]
    },
    {
      "cell_type": "code",
      "execution_count": 15,
      "metadata": {
        "colab": {
          "base_uri": "https://localhost:8080/",
          "height": 571
        },
        "id": "J_qg2Tsfat-O",
        "outputId": "3311714e-1d0f-4f64-b241-fc781ad3ebd9"
      },
      "outputs": [
        {
          "data": {
            "text/html": [
              "<div>\n",
              "<style scoped>\n",
              "    .dataframe tbody tr th:only-of-type {\n",
              "        vertical-align: middle;\n",
              "    }\n",
              "\n",
              "    .dataframe tbody tr th {\n",
              "        vertical-align: top;\n",
              "    }\n",
              "\n",
              "    .dataframe thead th {\n",
              "        text-align: right;\n",
              "    }\n",
              "</style>\n",
              "<table border=\"1\" class=\"dataframe\">\n",
              "  <thead>\n",
              "    <tr style=\"text-align: right;\">\n",
              "      <th></th>\n",
              "      <th>1/22/20</th>\n",
              "      <th>1/23/20</th>\n",
              "      <th>1/24/20</th>\n",
              "      <th>1/25/20</th>\n",
              "      <th>1/26/20</th>\n",
              "      <th>1/27/20</th>\n",
              "      <th>1/28/20</th>\n",
              "      <th>1/29/20</th>\n",
              "      <th>1/30/20</th>\n",
              "      <th>1/31/20</th>\n",
              "      <th>...</th>\n",
              "      <th>4/22/20</th>\n",
              "      <th>4/23/20</th>\n",
              "      <th>4/24/20</th>\n",
              "      <th>4/25/20</th>\n",
              "      <th>4/26/20</th>\n",
              "      <th>4/27/20</th>\n",
              "      <th>4/28/20</th>\n",
              "      <th>4/29/20</th>\n",
              "      <th>4/30/20</th>\n",
              "      <th>Max_infection_rates</th>\n",
              "    </tr>\n",
              "    <tr>\n",
              "      <th>Country/Region</th>\n",
              "      <th></th>\n",
              "      <th></th>\n",
              "      <th></th>\n",
              "      <th></th>\n",
              "      <th></th>\n",
              "      <th></th>\n",
              "      <th></th>\n",
              "      <th></th>\n",
              "      <th></th>\n",
              "      <th></th>\n",
              "      <th></th>\n",
              "      <th></th>\n",
              "      <th></th>\n",
              "      <th></th>\n",
              "      <th></th>\n",
              "      <th></th>\n",
              "      <th></th>\n",
              "      <th></th>\n",
              "      <th></th>\n",
              "      <th></th>\n",
              "      <th></th>\n",
              "    </tr>\n",
              "  </thead>\n",
              "  <tbody>\n",
              "    <tr>\n",
              "      <th>Afghanistan</th>\n",
              "      <td>0</td>\n",
              "      <td>0</td>\n",
              "      <td>0</td>\n",
              "      <td>0</td>\n",
              "      <td>0</td>\n",
              "      <td>0</td>\n",
              "      <td>0</td>\n",
              "      <td>0</td>\n",
              "      <td>0</td>\n",
              "      <td>0</td>\n",
              "      <td>...</td>\n",
              "      <td>1176</td>\n",
              "      <td>1279</td>\n",
              "      <td>1351</td>\n",
              "      <td>1463</td>\n",
              "      <td>1531</td>\n",
              "      <td>1703</td>\n",
              "      <td>1828</td>\n",
              "      <td>1939</td>\n",
              "      <td>2171</td>\n",
              "      <td>232.0</td>\n",
              "    </tr>\n",
              "    <tr>\n",
              "      <th>Albania</th>\n",
              "      <td>0</td>\n",
              "      <td>0</td>\n",
              "      <td>0</td>\n",
              "      <td>0</td>\n",
              "      <td>0</td>\n",
              "      <td>0</td>\n",
              "      <td>0</td>\n",
              "      <td>0</td>\n",
              "      <td>0</td>\n",
              "      <td>0</td>\n",
              "      <td>...</td>\n",
              "      <td>634</td>\n",
              "      <td>663</td>\n",
              "      <td>678</td>\n",
              "      <td>712</td>\n",
              "      <td>726</td>\n",
              "      <td>736</td>\n",
              "      <td>750</td>\n",
              "      <td>766</td>\n",
              "      <td>773</td>\n",
              "      <td>34.0</td>\n",
              "    </tr>\n",
              "    <tr>\n",
              "      <th>Algeria</th>\n",
              "      <td>0</td>\n",
              "      <td>0</td>\n",
              "      <td>0</td>\n",
              "      <td>0</td>\n",
              "      <td>0</td>\n",
              "      <td>0</td>\n",
              "      <td>0</td>\n",
              "      <td>0</td>\n",
              "      <td>0</td>\n",
              "      <td>0</td>\n",
              "      <td>...</td>\n",
              "      <td>2910</td>\n",
              "      <td>3007</td>\n",
              "      <td>3127</td>\n",
              "      <td>3256</td>\n",
              "      <td>3382</td>\n",
              "      <td>3517</td>\n",
              "      <td>3649</td>\n",
              "      <td>3848</td>\n",
              "      <td>4006</td>\n",
              "      <td>199.0</td>\n",
              "    </tr>\n",
              "    <tr>\n",
              "      <th>Andorra</th>\n",
              "      <td>0</td>\n",
              "      <td>0</td>\n",
              "      <td>0</td>\n",
              "      <td>0</td>\n",
              "      <td>0</td>\n",
              "      <td>0</td>\n",
              "      <td>0</td>\n",
              "      <td>0</td>\n",
              "      <td>0</td>\n",
              "      <td>0</td>\n",
              "      <td>...</td>\n",
              "      <td>723</td>\n",
              "      <td>723</td>\n",
              "      <td>731</td>\n",
              "      <td>738</td>\n",
              "      <td>738</td>\n",
              "      <td>743</td>\n",
              "      <td>743</td>\n",
              "      <td>743</td>\n",
              "      <td>745</td>\n",
              "      <td>43.0</td>\n",
              "    </tr>\n",
              "    <tr>\n",
              "      <th>Angola</th>\n",
              "      <td>0</td>\n",
              "      <td>0</td>\n",
              "      <td>0</td>\n",
              "      <td>0</td>\n",
              "      <td>0</td>\n",
              "      <td>0</td>\n",
              "      <td>0</td>\n",
              "      <td>0</td>\n",
              "      <td>0</td>\n",
              "      <td>0</td>\n",
              "      <td>...</td>\n",
              "      <td>25</td>\n",
              "      <td>25</td>\n",
              "      <td>25</td>\n",
              "      <td>25</td>\n",
              "      <td>26</td>\n",
              "      <td>27</td>\n",
              "      <td>27</td>\n",
              "      <td>27</td>\n",
              "      <td>27</td>\n",
              "      <td>5.0</td>\n",
              "    </tr>\n",
              "    <tr>\n",
              "      <th>...</th>\n",
              "      <td>...</td>\n",
              "      <td>...</td>\n",
              "      <td>...</td>\n",
              "      <td>...</td>\n",
              "      <td>...</td>\n",
              "      <td>...</td>\n",
              "      <td>...</td>\n",
              "      <td>...</td>\n",
              "      <td>...</td>\n",
              "      <td>...</td>\n",
              "      <td>...</td>\n",
              "      <td>...</td>\n",
              "      <td>...</td>\n",
              "      <td>...</td>\n",
              "      <td>...</td>\n",
              "      <td>...</td>\n",
              "      <td>...</td>\n",
              "      <td>...</td>\n",
              "      <td>...</td>\n",
              "      <td>...</td>\n",
              "      <td>...</td>\n",
              "    </tr>\n",
              "    <tr>\n",
              "      <th>West Bank and Gaza</th>\n",
              "      <td>0</td>\n",
              "      <td>0</td>\n",
              "      <td>0</td>\n",
              "      <td>0</td>\n",
              "      <td>0</td>\n",
              "      <td>0</td>\n",
              "      <td>0</td>\n",
              "      <td>0</td>\n",
              "      <td>0</td>\n",
              "      <td>0</td>\n",
              "      <td>...</td>\n",
              "      <td>474</td>\n",
              "      <td>480</td>\n",
              "      <td>484</td>\n",
              "      <td>342</td>\n",
              "      <td>342</td>\n",
              "      <td>342</td>\n",
              "      <td>343</td>\n",
              "      <td>344</td>\n",
              "      <td>344</td>\n",
              "      <td>66.0</td>\n",
              "    </tr>\n",
              "    <tr>\n",
              "      <th>Western Sahara</th>\n",
              "      <td>0</td>\n",
              "      <td>0</td>\n",
              "      <td>0</td>\n",
              "      <td>0</td>\n",
              "      <td>0</td>\n",
              "      <td>0</td>\n",
              "      <td>0</td>\n",
              "      <td>0</td>\n",
              "      <td>0</td>\n",
              "      <td>0</td>\n",
              "      <td>...</td>\n",
              "      <td>6</td>\n",
              "      <td>6</td>\n",
              "      <td>6</td>\n",
              "      <td>6</td>\n",
              "      <td>6</td>\n",
              "      <td>6</td>\n",
              "      <td>6</td>\n",
              "      <td>6</td>\n",
              "      <td>6</td>\n",
              "      <td>4.0</td>\n",
              "    </tr>\n",
              "    <tr>\n",
              "      <th>Yemen</th>\n",
              "      <td>0</td>\n",
              "      <td>0</td>\n",
              "      <td>0</td>\n",
              "      <td>0</td>\n",
              "      <td>0</td>\n",
              "      <td>0</td>\n",
              "      <td>0</td>\n",
              "      <td>0</td>\n",
              "      <td>0</td>\n",
              "      <td>0</td>\n",
              "      <td>...</td>\n",
              "      <td>1</td>\n",
              "      <td>1</td>\n",
              "      <td>1</td>\n",
              "      <td>1</td>\n",
              "      <td>1</td>\n",
              "      <td>1</td>\n",
              "      <td>1</td>\n",
              "      <td>6</td>\n",
              "      <td>6</td>\n",
              "      <td>5.0</td>\n",
              "    </tr>\n",
              "    <tr>\n",
              "      <th>Zambia</th>\n",
              "      <td>0</td>\n",
              "      <td>0</td>\n",
              "      <td>0</td>\n",
              "      <td>0</td>\n",
              "      <td>0</td>\n",
              "      <td>0</td>\n",
              "      <td>0</td>\n",
              "      <td>0</td>\n",
              "      <td>0</td>\n",
              "      <td>0</td>\n",
              "      <td>...</td>\n",
              "      <td>74</td>\n",
              "      <td>76</td>\n",
              "      <td>84</td>\n",
              "      <td>84</td>\n",
              "      <td>88</td>\n",
              "      <td>88</td>\n",
              "      <td>95</td>\n",
              "      <td>97</td>\n",
              "      <td>106</td>\n",
              "      <td>9.0</td>\n",
              "    </tr>\n",
              "    <tr>\n",
              "      <th>Zimbabwe</th>\n",
              "      <td>0</td>\n",
              "      <td>0</td>\n",
              "      <td>0</td>\n",
              "      <td>0</td>\n",
              "      <td>0</td>\n",
              "      <td>0</td>\n",
              "      <td>0</td>\n",
              "      <td>0</td>\n",
              "      <td>0</td>\n",
              "      <td>0</td>\n",
              "      <td>...</td>\n",
              "      <td>28</td>\n",
              "      <td>28</td>\n",
              "      <td>29</td>\n",
              "      <td>31</td>\n",
              "      <td>31</td>\n",
              "      <td>32</td>\n",
              "      <td>32</td>\n",
              "      <td>32</td>\n",
              "      <td>40</td>\n",
              "      <td>8.0</td>\n",
              "    </tr>\n",
              "  </tbody>\n",
              "</table>\n",
              "<p>187 rows × 101 columns</p>\n",
              "</div>"
            ],
            "text/plain": [
              "                    1/22/20  1/23/20  1/24/20  1/25/20  1/26/20  1/27/20  \\\n",
              "Country/Region                                                             \n",
              "Afghanistan               0        0        0        0        0        0   \n",
              "Albania                   0        0        0        0        0        0   \n",
              "Algeria                   0        0        0        0        0        0   \n",
              "Andorra                   0        0        0        0        0        0   \n",
              "Angola                    0        0        0        0        0        0   \n",
              "...                     ...      ...      ...      ...      ...      ...   \n",
              "West Bank and Gaza        0        0        0        0        0        0   \n",
              "Western Sahara            0        0        0        0        0        0   \n",
              "Yemen                     0        0        0        0        0        0   \n",
              "Zambia                    0        0        0        0        0        0   \n",
              "Zimbabwe                  0        0        0        0        0        0   \n",
              "\n",
              "                    1/28/20  1/29/20  1/30/20  1/31/20  ...  4/22/20  4/23/20  \\\n",
              "Country/Region                                          ...                     \n",
              "Afghanistan               0        0        0        0  ...     1176     1279   \n",
              "Albania                   0        0        0        0  ...      634      663   \n",
              "Algeria                   0        0        0        0  ...     2910     3007   \n",
              "Andorra                   0        0        0        0  ...      723      723   \n",
              "Angola                    0        0        0        0  ...       25       25   \n",
              "...                     ...      ...      ...      ...  ...      ...      ...   \n",
              "West Bank and Gaza        0        0        0        0  ...      474      480   \n",
              "Western Sahara            0        0        0        0  ...        6        6   \n",
              "Yemen                     0        0        0        0  ...        1        1   \n",
              "Zambia                    0        0        0        0  ...       74       76   \n",
              "Zimbabwe                  0        0        0        0  ...       28       28   \n",
              "\n",
              "                    4/24/20  4/25/20  4/26/20  4/27/20  4/28/20  4/29/20  \\\n",
              "Country/Region                                                             \n",
              "Afghanistan            1351     1463     1531     1703     1828     1939   \n",
              "Albania                 678      712      726      736      750      766   \n",
              "Algeria                3127     3256     3382     3517     3649     3848   \n",
              "Andorra                 731      738      738      743      743      743   \n",
              "Angola                   25       25       26       27       27       27   \n",
              "...                     ...      ...      ...      ...      ...      ...   \n",
              "West Bank and Gaza      484      342      342      342      343      344   \n",
              "Western Sahara            6        6        6        6        6        6   \n",
              "Yemen                     1        1        1        1        1        6   \n",
              "Zambia                   84       84       88       88       95       97   \n",
              "Zimbabwe                 29       31       31       32       32       32   \n",
              "\n",
              "                    4/30/20  Max_infection_rates  \n",
              "Country/Region                                    \n",
              "Afghanistan            2171                232.0  \n",
              "Albania                 773                 34.0  \n",
              "Algeria                4006                199.0  \n",
              "Andorra                 745                 43.0  \n",
              "Angola                   27                  5.0  \n",
              "...                     ...                  ...  \n",
              "West Bank and Gaza      344                 66.0  \n",
              "Western Sahara            6                  4.0  \n",
              "Yemen                     6                  5.0  \n",
              "Zambia                  106                  9.0  \n",
              "Zimbabwe                 40                  8.0  \n",
              "\n",
              "[187 rows x 101 columns]"
            ]
          },
          "execution_count": 15,
          "metadata": {},
          "output_type": "execute_result"
        }
      ],
      "source": [
        "countries= list(data.index)\n",
        "max_infection_rates= []\n",
        "\n",
        "for c in countries:\n",
        "  max_infection_rates.append(data.loc[c].diff().max())\n",
        "data[\"Max_infection_rates\"]= max_infection_rates\n",
        "data"
      ]
    },
    {
      "cell_type": "code",
      "execution_count": 16,
      "metadata": {
        "colab": {
          "base_uri": "https://localhost:8080/",
          "height": 455
        },
        "id": "Qid5oq1pdIKm",
        "outputId": "b1d6d7f3-6452-4098-f7c5-a3aeb8be615d"
      },
      "outputs": [
        {
          "data": {
            "text/html": [
              "<div>\n",
              "<style scoped>\n",
              "    .dataframe tbody tr th:only-of-type {\n",
              "        vertical-align: middle;\n",
              "    }\n",
              "\n",
              "    .dataframe tbody tr th {\n",
              "        vertical-align: top;\n",
              "    }\n",
              "\n",
              "    .dataframe thead th {\n",
              "        text-align: right;\n",
              "    }\n",
              "</style>\n",
              "<table border=\"1\" class=\"dataframe\">\n",
              "  <thead>\n",
              "    <tr style=\"text-align: right;\">\n",
              "      <th></th>\n",
              "      <th>Max_infection_rates</th>\n",
              "    </tr>\n",
              "    <tr>\n",
              "      <th>Country/Region</th>\n",
              "      <th></th>\n",
              "    </tr>\n",
              "  </thead>\n",
              "  <tbody>\n",
              "    <tr>\n",
              "      <th>Afghanistan</th>\n",
              "      <td>232.0</td>\n",
              "    </tr>\n",
              "    <tr>\n",
              "      <th>Albania</th>\n",
              "      <td>34.0</td>\n",
              "    </tr>\n",
              "    <tr>\n",
              "      <th>Algeria</th>\n",
              "      <td>199.0</td>\n",
              "    </tr>\n",
              "    <tr>\n",
              "      <th>Andorra</th>\n",
              "      <td>43.0</td>\n",
              "    </tr>\n",
              "    <tr>\n",
              "      <th>Angola</th>\n",
              "      <td>5.0</td>\n",
              "    </tr>\n",
              "    <tr>\n",
              "      <th>...</th>\n",
              "      <td>...</td>\n",
              "    </tr>\n",
              "    <tr>\n",
              "      <th>West Bank and Gaza</th>\n",
              "      <td>66.0</td>\n",
              "    </tr>\n",
              "    <tr>\n",
              "      <th>Western Sahara</th>\n",
              "      <td>4.0</td>\n",
              "    </tr>\n",
              "    <tr>\n",
              "      <th>Yemen</th>\n",
              "      <td>5.0</td>\n",
              "    </tr>\n",
              "    <tr>\n",
              "      <th>Zambia</th>\n",
              "      <td>9.0</td>\n",
              "    </tr>\n",
              "    <tr>\n",
              "      <th>Zimbabwe</th>\n",
              "      <td>8.0</td>\n",
              "    </tr>\n",
              "  </tbody>\n",
              "</table>\n",
              "<p>187 rows × 1 columns</p>\n",
              "</div>"
            ],
            "text/plain": [
              "                    Max_infection_rates\n",
              "Country/Region                         \n",
              "Afghanistan                       232.0\n",
              "Albania                            34.0\n",
              "Algeria                           199.0\n",
              "Andorra                            43.0\n",
              "Angola                              5.0\n",
              "...                                 ...\n",
              "West Bank and Gaza                 66.0\n",
              "Western Sahara                      4.0\n",
              "Yemen                               5.0\n",
              "Zambia                              9.0\n",
              "Zimbabwe                            8.0\n",
              "\n",
              "[187 rows x 1 columns]"
            ]
          },
          "execution_count": 16,
          "metadata": {},
          "output_type": "execute_result"
        }
      ],
      "source": [
        "corona_data= pd.DataFrame(data[\"Max_infection_rates\"])\n",
        "corona_data"
      ]
    },
    {
      "cell_type": "code",
      "execution_count": 17,
      "metadata": {
        "colab": {
          "base_uri": "https://localhost:8080/",
          "height": 73
        },
        "id": "iWJg1DWudIOy",
        "outputId": "b0013ac1-a82e-4c87-cdc3-7d830facd61a"
      },
      "outputs": [],
      "source": [
        "\n",
        "df1= pd.read_csv(\"worldwide_happiness_report.csv\")"
      ]
    },
    {
      "cell_type": "code",
      "execution_count": 18,
      "metadata": {
        "colab": {
          "base_uri": "https://localhost:8080/",
          "height": 206
        },
        "id": "0pQ-mvZWdITD",
        "outputId": "c8664e3f-9320-4cfa-f6f0-723fc1d01c4c"
      },
      "outputs": [
        {
          "data": {
            "text/html": [
              "<div>\n",
              "<style scoped>\n",
              "    .dataframe tbody tr th:only-of-type {\n",
              "        vertical-align: middle;\n",
              "    }\n",
              "\n",
              "    .dataframe tbody tr th {\n",
              "        vertical-align: top;\n",
              "    }\n",
              "\n",
              "    .dataframe thead th {\n",
              "        text-align: right;\n",
              "    }\n",
              "</style>\n",
              "<table border=\"1\" class=\"dataframe\">\n",
              "  <thead>\n",
              "    <tr style=\"text-align: right;\">\n",
              "      <th></th>\n",
              "      <th>Overall rank</th>\n",
              "      <th>Country or region</th>\n",
              "      <th>Score</th>\n",
              "      <th>GDP per capita</th>\n",
              "      <th>Social support</th>\n",
              "      <th>Healthy life expectancy</th>\n",
              "      <th>Freedom to make life choices</th>\n",
              "      <th>Generosity</th>\n",
              "      <th>Perceptions of corruption</th>\n",
              "    </tr>\n",
              "  </thead>\n",
              "  <tbody>\n",
              "    <tr>\n",
              "      <th>0</th>\n",
              "      <td>1</td>\n",
              "      <td>Finland</td>\n",
              "      <td>7.769</td>\n",
              "      <td>1.340</td>\n",
              "      <td>1.587</td>\n",
              "      <td>0.986</td>\n",
              "      <td>0.596</td>\n",
              "      <td>0.153</td>\n",
              "      <td>0.393</td>\n",
              "    </tr>\n",
              "    <tr>\n",
              "      <th>1</th>\n",
              "      <td>2</td>\n",
              "      <td>Denmark</td>\n",
              "      <td>7.600</td>\n",
              "      <td>1.383</td>\n",
              "      <td>1.573</td>\n",
              "      <td>0.996</td>\n",
              "      <td>0.592</td>\n",
              "      <td>0.252</td>\n",
              "      <td>0.410</td>\n",
              "    </tr>\n",
              "    <tr>\n",
              "      <th>2</th>\n",
              "      <td>3</td>\n",
              "      <td>Norway</td>\n",
              "      <td>7.554</td>\n",
              "      <td>1.488</td>\n",
              "      <td>1.582</td>\n",
              "      <td>1.028</td>\n",
              "      <td>0.603</td>\n",
              "      <td>0.271</td>\n",
              "      <td>0.341</td>\n",
              "    </tr>\n",
              "    <tr>\n",
              "      <th>3</th>\n",
              "      <td>4</td>\n",
              "      <td>Iceland</td>\n",
              "      <td>7.494</td>\n",
              "      <td>1.380</td>\n",
              "      <td>1.624</td>\n",
              "      <td>1.026</td>\n",
              "      <td>0.591</td>\n",
              "      <td>0.354</td>\n",
              "      <td>0.118</td>\n",
              "    </tr>\n",
              "    <tr>\n",
              "      <th>4</th>\n",
              "      <td>5</td>\n",
              "      <td>Netherlands</td>\n",
              "      <td>7.488</td>\n",
              "      <td>1.396</td>\n",
              "      <td>1.522</td>\n",
              "      <td>0.999</td>\n",
              "      <td>0.557</td>\n",
              "      <td>0.322</td>\n",
              "      <td>0.298</td>\n",
              "    </tr>\n",
              "  </tbody>\n",
              "</table>\n",
              "</div>"
            ],
            "text/plain": [
              "   Overall rank Country or region  Score  GDP per capita  Social support  \\\n",
              "0             1           Finland  7.769           1.340           1.587   \n",
              "1             2           Denmark  7.600           1.383           1.573   \n",
              "2             3            Norway  7.554           1.488           1.582   \n",
              "3             4           Iceland  7.494           1.380           1.624   \n",
              "4             5       Netherlands  7.488           1.396           1.522   \n",
              "\n",
              "   Healthy life expectancy  Freedom to make life choices  Generosity  \\\n",
              "0                    0.986                         0.596       0.153   \n",
              "1                    0.996                         0.592       0.252   \n",
              "2                    1.028                         0.603       0.271   \n",
              "3                    1.026                         0.591       0.354   \n",
              "4                    0.999                         0.557       0.322   \n",
              "\n",
              "   Perceptions of corruption  \n",
              "0                      0.393  \n",
              "1                      0.410  \n",
              "2                      0.341  \n",
              "3                      0.118  \n",
              "4                      0.298  "
            ]
          },
          "execution_count": 18,
          "metadata": {},
          "output_type": "execute_result"
        }
      ],
      "source": [
        "df1.head()"
      ]
    },
    {
      "cell_type": "code",
      "execution_count": 19,
      "metadata": {
        "id": "c2zmPPt-dIXe"
      },
      "outputs": [],
      "source": [
        "df1.drop(['Generosity', 'Perceptions of corruption', 'Overall rank', 'Score'], axis= 1, inplace= True)"
      ]
    },
    {
      "cell_type": "code",
      "execution_count": 20,
      "metadata": {
        "colab": {
          "base_uri": "https://localhost:8080/",
          "height": 206
        },
        "id": "BNqc1QpCdIbn",
        "outputId": "b0844648-28c9-40cf-844e-b3803340fcf4"
      },
      "outputs": [
        {
          "data": {
            "text/html": [
              "<div>\n",
              "<style scoped>\n",
              "    .dataframe tbody tr th:only-of-type {\n",
              "        vertical-align: middle;\n",
              "    }\n",
              "\n",
              "    .dataframe tbody tr th {\n",
              "        vertical-align: top;\n",
              "    }\n",
              "\n",
              "    .dataframe thead th {\n",
              "        text-align: right;\n",
              "    }\n",
              "</style>\n",
              "<table border=\"1\" class=\"dataframe\">\n",
              "  <thead>\n",
              "    <tr style=\"text-align: right;\">\n",
              "      <th></th>\n",
              "      <th>Country or region</th>\n",
              "      <th>GDP per capita</th>\n",
              "      <th>Social support</th>\n",
              "      <th>Healthy life expectancy</th>\n",
              "      <th>Freedom to make life choices</th>\n",
              "    </tr>\n",
              "  </thead>\n",
              "  <tbody>\n",
              "    <tr>\n",
              "      <th>0</th>\n",
              "      <td>Finland</td>\n",
              "      <td>1.340</td>\n",
              "      <td>1.587</td>\n",
              "      <td>0.986</td>\n",
              "      <td>0.596</td>\n",
              "    </tr>\n",
              "    <tr>\n",
              "      <th>1</th>\n",
              "      <td>Denmark</td>\n",
              "      <td>1.383</td>\n",
              "      <td>1.573</td>\n",
              "      <td>0.996</td>\n",
              "      <td>0.592</td>\n",
              "    </tr>\n",
              "    <tr>\n",
              "      <th>2</th>\n",
              "      <td>Norway</td>\n",
              "      <td>1.488</td>\n",
              "      <td>1.582</td>\n",
              "      <td>1.028</td>\n",
              "      <td>0.603</td>\n",
              "    </tr>\n",
              "    <tr>\n",
              "      <th>3</th>\n",
              "      <td>Iceland</td>\n",
              "      <td>1.380</td>\n",
              "      <td>1.624</td>\n",
              "      <td>1.026</td>\n",
              "      <td>0.591</td>\n",
              "    </tr>\n",
              "    <tr>\n",
              "      <th>4</th>\n",
              "      <td>Netherlands</td>\n",
              "      <td>1.396</td>\n",
              "      <td>1.522</td>\n",
              "      <td>0.999</td>\n",
              "      <td>0.557</td>\n",
              "    </tr>\n",
              "  </tbody>\n",
              "</table>\n",
              "</div>"
            ],
            "text/plain": [
              "  Country or region  GDP per capita  Social support  Healthy life expectancy  \\\n",
              "0           Finland           1.340           1.587                    0.986   \n",
              "1           Denmark           1.383           1.573                    0.996   \n",
              "2            Norway           1.488           1.582                    1.028   \n",
              "3           Iceland           1.380           1.624                    1.026   \n",
              "4       Netherlands           1.396           1.522                    0.999   \n",
              "\n",
              "   Freedom to make life choices  \n",
              "0                         0.596  \n",
              "1                         0.592  \n",
              "2                         0.603  \n",
              "3                         0.591  \n",
              "4                         0.557  "
            ]
          },
          "execution_count": 20,
          "metadata": {},
          "output_type": "execute_result"
        }
      ],
      "source": [
        "df1.head()"
      ]
    },
    {
      "cell_type": "code",
      "execution_count": 21,
      "metadata": {
        "colab": {
          "base_uri": "https://localhost:8080/",
          "height": 328
        },
        "id": "GvpEsW8rdIf4",
        "outputId": "3da0ab05-98c1-43a9-fa6e-8efb38765b8f"
      },
      "outputs": [
        {
          "data": {
            "text/html": [
              "<div>\n",
              "<style scoped>\n",
              "    .dataframe tbody tr th:only-of-type {\n",
              "        vertical-align: middle;\n",
              "    }\n",
              "\n",
              "    .dataframe tbody tr th {\n",
              "        vertical-align: top;\n",
              "    }\n",
              "\n",
              "    .dataframe thead th {\n",
              "        text-align: right;\n",
              "    }\n",
              "</style>\n",
              "<table border=\"1\" class=\"dataframe\">\n",
              "  <thead>\n",
              "    <tr style=\"text-align: right;\">\n",
              "      <th></th>\n",
              "      <th>GDP per capita</th>\n",
              "      <th>Social support</th>\n",
              "      <th>Healthy life expectancy</th>\n",
              "      <th>Freedom to make life choices</th>\n",
              "    </tr>\n",
              "    <tr>\n",
              "      <th>Country or region</th>\n",
              "      <th></th>\n",
              "      <th></th>\n",
              "      <th></th>\n",
              "      <th></th>\n",
              "    </tr>\n",
              "  </thead>\n",
              "  <tbody>\n",
              "    <tr>\n",
              "      <th>Finland</th>\n",
              "      <td>1.340</td>\n",
              "      <td>1.587</td>\n",
              "      <td>0.986</td>\n",
              "      <td>0.596</td>\n",
              "    </tr>\n",
              "    <tr>\n",
              "      <th>Denmark</th>\n",
              "      <td>1.383</td>\n",
              "      <td>1.573</td>\n",
              "      <td>0.996</td>\n",
              "      <td>0.592</td>\n",
              "    </tr>\n",
              "    <tr>\n",
              "      <th>Norway</th>\n",
              "      <td>1.488</td>\n",
              "      <td>1.582</td>\n",
              "      <td>1.028</td>\n",
              "      <td>0.603</td>\n",
              "    </tr>\n",
              "    <tr>\n",
              "      <th>Iceland</th>\n",
              "      <td>1.380</td>\n",
              "      <td>1.624</td>\n",
              "      <td>1.026</td>\n",
              "      <td>0.591</td>\n",
              "    </tr>\n",
              "    <tr>\n",
              "      <th>Netherlands</th>\n",
              "      <td>1.396</td>\n",
              "      <td>1.522</td>\n",
              "      <td>0.999</td>\n",
              "      <td>0.557</td>\n",
              "    </tr>\n",
              "    <tr>\n",
              "      <th>...</th>\n",
              "      <td>...</td>\n",
              "      <td>...</td>\n",
              "      <td>...</td>\n",
              "      <td>...</td>\n",
              "    </tr>\n",
              "    <tr>\n",
              "      <th>Rwanda</th>\n",
              "      <td>0.359</td>\n",
              "      <td>0.711</td>\n",
              "      <td>0.614</td>\n",
              "      <td>0.555</td>\n",
              "    </tr>\n",
              "    <tr>\n",
              "      <th>Tanzania</th>\n",
              "      <td>0.476</td>\n",
              "      <td>0.885</td>\n",
              "      <td>0.499</td>\n",
              "      <td>0.417</td>\n",
              "    </tr>\n",
              "    <tr>\n",
              "      <th>Afghanistan</th>\n",
              "      <td>0.350</td>\n",
              "      <td>0.517</td>\n",
              "      <td>0.361</td>\n",
              "      <td>0.000</td>\n",
              "    </tr>\n",
              "    <tr>\n",
              "      <th>Central African Republic</th>\n",
              "      <td>0.026</td>\n",
              "      <td>0.000</td>\n",
              "      <td>0.105</td>\n",
              "      <td>0.225</td>\n",
              "    </tr>\n",
              "    <tr>\n",
              "      <th>South Sudan</th>\n",
              "      <td>0.306</td>\n",
              "      <td>0.575</td>\n",
              "      <td>0.295</td>\n",
              "      <td>0.010</td>\n",
              "    </tr>\n",
              "  </tbody>\n",
              "</table>\n",
              "<p>156 rows × 4 columns</p>\n",
              "</div>"
            ],
            "text/plain": [
              "                          GDP per capita  Social support  \\\n",
              "Country or region                                          \n",
              "Finland                            1.340           1.587   \n",
              "Denmark                            1.383           1.573   \n",
              "Norway                             1.488           1.582   \n",
              "Iceland                            1.380           1.624   \n",
              "Netherlands                        1.396           1.522   \n",
              "...                                  ...             ...   \n",
              "Rwanda                             0.359           0.711   \n",
              "Tanzania                           0.476           0.885   \n",
              "Afghanistan                        0.350           0.517   \n",
              "Central African Republic           0.026           0.000   \n",
              "South Sudan                        0.306           0.575   \n",
              "\n",
              "                          Healthy life expectancy  \\\n",
              "Country or region                                   \n",
              "Finland                                     0.986   \n",
              "Denmark                                     0.996   \n",
              "Norway                                      1.028   \n",
              "Iceland                                     1.026   \n",
              "Netherlands                                 0.999   \n",
              "...                                           ...   \n",
              "Rwanda                                      0.614   \n",
              "Tanzania                                    0.499   \n",
              "Afghanistan                                 0.361   \n",
              "Central African Republic                    0.105   \n",
              "South Sudan                                 0.295   \n",
              "\n",
              "                          Freedom to make life choices  \n",
              "Country or region                                       \n",
              "Finland                                          0.596  \n",
              "Denmark                                          0.592  \n",
              "Norway                                           0.603  \n",
              "Iceland                                          0.591  \n",
              "Netherlands                                      0.557  \n",
              "...                                                ...  \n",
              "Rwanda                                           0.555  \n",
              "Tanzania                                         0.417  \n",
              "Afghanistan                                      0.000  \n",
              "Central African Republic                         0.225  \n",
              "South Sudan                                      0.010  \n",
              "\n",
              "[156 rows x 4 columns]"
            ]
          },
          "execution_count": 21,
          "metadata": {},
          "output_type": "execute_result"
        }
      ],
      "source": [
        "df1.set_index('Country or region', inplace= True)\n",
        "df1"
      ]
    },
    {
      "cell_type": "code",
      "execution_count": 22,
      "metadata": {
        "colab": {
          "base_uri": "https://localhost:8080/"
        },
        "id": "jEN1QEQAauBS",
        "outputId": "06ccf80d-e3da-49e3-f32f-f6838494dcc0"
      },
      "outputs": [
        {
          "data": {
            "text/plain": [
              "(187, 1)"
            ]
          },
          "execution_count": 22,
          "metadata": {},
          "output_type": "execute_result"
        }
      ],
      "source": [
        "corona_data.shape"
      ]
    },
    {
      "cell_type": "code",
      "execution_count": 23,
      "metadata": {
        "colab": {
          "base_uri": "https://localhost:8080/"
        },
        "id": "-PL5SWt_f6g9",
        "outputId": "709684c9-a6b0-490a-e598-334970ff28f3"
      },
      "outputs": [
        {
          "data": {
            "text/plain": [
              "(156, 4)"
            ]
          },
          "execution_count": 23,
          "metadata": {},
          "output_type": "execute_result"
        }
      ],
      "source": [
        "df1.shape"
      ]
    },
    {
      "cell_type": "code",
      "execution_count": 24,
      "metadata": {
        "colab": {
          "base_uri": "https://localhost:8080/",
          "height": 423
        },
        "id": "wEsawgKxf6o8",
        "outputId": "c481ab8d-6d99-427d-9b8d-8377aa84d1cc"
      },
      "outputs": [
        {
          "data": {
            "text/html": [
              "<div>\n",
              "<style scoped>\n",
              "    .dataframe tbody tr th:only-of-type {\n",
              "        vertical-align: middle;\n",
              "    }\n",
              "\n",
              "    .dataframe tbody tr th {\n",
              "        vertical-align: top;\n",
              "    }\n",
              "\n",
              "    .dataframe thead th {\n",
              "        text-align: right;\n",
              "    }\n",
              "</style>\n",
              "<table border=\"1\" class=\"dataframe\">\n",
              "  <thead>\n",
              "    <tr style=\"text-align: right;\">\n",
              "      <th></th>\n",
              "      <th>Max_infection_rates</th>\n",
              "      <th>GDP per capita</th>\n",
              "      <th>Social support</th>\n",
              "      <th>Healthy life expectancy</th>\n",
              "      <th>Freedom to make life choices</th>\n",
              "    </tr>\n",
              "  </thead>\n",
              "  <tbody>\n",
              "    <tr>\n",
              "      <th>Afghanistan</th>\n",
              "      <td>232.0</td>\n",
              "      <td>0.350</td>\n",
              "      <td>0.517</td>\n",
              "      <td>0.361</td>\n",
              "      <td>0.000</td>\n",
              "    </tr>\n",
              "    <tr>\n",
              "      <th>Albania</th>\n",
              "      <td>34.0</td>\n",
              "      <td>0.947</td>\n",
              "      <td>0.848</td>\n",
              "      <td>0.874</td>\n",
              "      <td>0.383</td>\n",
              "    </tr>\n",
              "    <tr>\n",
              "      <th>Algeria</th>\n",
              "      <td>199.0</td>\n",
              "      <td>1.002</td>\n",
              "      <td>1.160</td>\n",
              "      <td>0.785</td>\n",
              "      <td>0.086</td>\n",
              "    </tr>\n",
              "    <tr>\n",
              "      <th>Argentina</th>\n",
              "      <td>291.0</td>\n",
              "      <td>1.092</td>\n",
              "      <td>1.432</td>\n",
              "      <td>0.881</td>\n",
              "      <td>0.471</td>\n",
              "    </tr>\n",
              "    <tr>\n",
              "      <th>Armenia</th>\n",
              "      <td>134.0</td>\n",
              "      <td>0.850</td>\n",
              "      <td>1.055</td>\n",
              "      <td>0.815</td>\n",
              "      <td>0.283</td>\n",
              "    </tr>\n",
              "    <tr>\n",
              "      <th>...</th>\n",
              "      <td>...</td>\n",
              "      <td>...</td>\n",
              "      <td>...</td>\n",
              "      <td>...</td>\n",
              "      <td>...</td>\n",
              "    </tr>\n",
              "    <tr>\n",
              "      <th>Venezuela</th>\n",
              "      <td>29.0</td>\n",
              "      <td>0.960</td>\n",
              "      <td>1.427</td>\n",
              "      <td>0.805</td>\n",
              "      <td>0.154</td>\n",
              "    </tr>\n",
              "    <tr>\n",
              "      <th>Vietnam</th>\n",
              "      <td>19.0</td>\n",
              "      <td>0.741</td>\n",
              "      <td>1.346</td>\n",
              "      <td>0.851</td>\n",
              "      <td>0.543</td>\n",
              "    </tr>\n",
              "    <tr>\n",
              "      <th>Yemen</th>\n",
              "      <td>5.0</td>\n",
              "      <td>0.287</td>\n",
              "      <td>1.163</td>\n",
              "      <td>0.463</td>\n",
              "      <td>0.143</td>\n",
              "    </tr>\n",
              "    <tr>\n",
              "      <th>Zambia</th>\n",
              "      <td>9.0</td>\n",
              "      <td>0.578</td>\n",
              "      <td>1.058</td>\n",
              "      <td>0.426</td>\n",
              "      <td>0.431</td>\n",
              "    </tr>\n",
              "    <tr>\n",
              "      <th>Zimbabwe</th>\n",
              "      <td>8.0</td>\n",
              "      <td>0.366</td>\n",
              "      <td>1.114</td>\n",
              "      <td>0.433</td>\n",
              "      <td>0.361</td>\n",
              "    </tr>\n",
              "  </tbody>\n",
              "</table>\n",
              "<p>143 rows × 5 columns</p>\n",
              "</div>"
            ],
            "text/plain": [
              "             Max_infection_rates  GDP per capita  Social support  \\\n",
              "Afghanistan                232.0           0.350           0.517   \n",
              "Albania                     34.0           0.947           0.848   \n",
              "Algeria                    199.0           1.002           1.160   \n",
              "Argentina                  291.0           1.092           1.432   \n",
              "Armenia                    134.0           0.850           1.055   \n",
              "...                          ...             ...             ...   \n",
              "Venezuela                   29.0           0.960           1.427   \n",
              "Vietnam                     19.0           0.741           1.346   \n",
              "Yemen                        5.0           0.287           1.163   \n",
              "Zambia                       9.0           0.578           1.058   \n",
              "Zimbabwe                     8.0           0.366           1.114   \n",
              "\n",
              "             Healthy life expectancy  Freedom to make life choices  \n",
              "Afghanistan                    0.361                         0.000  \n",
              "Albania                        0.874                         0.383  \n",
              "Algeria                        0.785                         0.086  \n",
              "Argentina                      0.881                         0.471  \n",
              "Armenia                        0.815                         0.283  \n",
              "...                              ...                           ...  \n",
              "Venezuela                      0.805                         0.154  \n",
              "Vietnam                        0.851                         0.543  \n",
              "Yemen                          0.463                         0.143  \n",
              "Zambia                         0.426                         0.431  \n",
              "Zimbabwe                       0.433                         0.361  \n",
              "\n",
              "[143 rows x 5 columns]"
            ]
          },
          "execution_count": 24,
          "metadata": {},
          "output_type": "execute_result"
        }
      ],
      "source": [
        "joined_data= corona_data.join(df1, how='inner')\n",
        "joined_data"
      ]
    },
    {
      "cell_type": "code",
      "execution_count": 25,
      "metadata": {
        "colab": {
          "base_uri": "https://localhost:8080/",
          "height": 206
        },
        "id": "dlV0_cxRf6wr",
        "outputId": "74af5e05-239e-4de8-9f46-4df5212ac785"
      },
      "outputs": [
        {
          "data": {
            "text/html": [
              "<div>\n",
              "<style scoped>\n",
              "    .dataframe tbody tr th:only-of-type {\n",
              "        vertical-align: middle;\n",
              "    }\n",
              "\n",
              "    .dataframe tbody tr th {\n",
              "        vertical-align: top;\n",
              "    }\n",
              "\n",
              "    .dataframe thead th {\n",
              "        text-align: right;\n",
              "    }\n",
              "</style>\n",
              "<table border=\"1\" class=\"dataframe\">\n",
              "  <thead>\n",
              "    <tr style=\"text-align: right;\">\n",
              "      <th></th>\n",
              "      <th>Max_infection_rates</th>\n",
              "      <th>GDP per capita</th>\n",
              "      <th>Social support</th>\n",
              "      <th>Healthy life expectancy</th>\n",
              "      <th>Freedom to make life choices</th>\n",
              "    </tr>\n",
              "  </thead>\n",
              "  <tbody>\n",
              "    <tr>\n",
              "      <th>Max_infection_rates</th>\n",
              "      <td>1.000000</td>\n",
              "      <td>0.250118</td>\n",
              "      <td>0.191958</td>\n",
              "      <td>0.289263</td>\n",
              "      <td>0.078196</td>\n",
              "    </tr>\n",
              "    <tr>\n",
              "      <th>GDP per capita</th>\n",
              "      <td>0.250118</td>\n",
              "      <td>1.000000</td>\n",
              "      <td>0.759468</td>\n",
              "      <td>0.863062</td>\n",
              "      <td>0.394603</td>\n",
              "    </tr>\n",
              "    <tr>\n",
              "      <th>Social support</th>\n",
              "      <td>0.191958</td>\n",
              "      <td>0.759468</td>\n",
              "      <td>1.000000</td>\n",
              "      <td>0.765286</td>\n",
              "      <td>0.456246</td>\n",
              "    </tr>\n",
              "    <tr>\n",
              "      <th>Healthy life expectancy</th>\n",
              "      <td>0.289263</td>\n",
              "      <td>0.863062</td>\n",
              "      <td>0.765286</td>\n",
              "      <td>1.000000</td>\n",
              "      <td>0.427892</td>\n",
              "    </tr>\n",
              "    <tr>\n",
              "      <th>Freedom to make life choices</th>\n",
              "      <td>0.078196</td>\n",
              "      <td>0.394603</td>\n",
              "      <td>0.456246</td>\n",
              "      <td>0.427892</td>\n",
              "      <td>1.000000</td>\n",
              "    </tr>\n",
              "  </tbody>\n",
              "</table>\n",
              "</div>"
            ],
            "text/plain": [
              "                              Max_infection_rates  GDP per capita  \\\n",
              "Max_infection_rates                      1.000000        0.250118   \n",
              "GDP per capita                           0.250118        1.000000   \n",
              "Social support                           0.191958        0.759468   \n",
              "Healthy life expectancy                  0.289263        0.863062   \n",
              "Freedom to make life choices             0.078196        0.394603   \n",
              "\n",
              "                              Social support  Healthy life expectancy  \\\n",
              "Max_infection_rates                 0.191958                 0.289263   \n",
              "GDP per capita                      0.759468                 0.863062   \n",
              "Social support                      1.000000                 0.765286   \n",
              "Healthy life expectancy             0.765286                 1.000000   \n",
              "Freedom to make life choices        0.456246                 0.427892   \n",
              "\n",
              "                              Freedom to make life choices  \n",
              "Max_infection_rates                               0.078196  \n",
              "GDP per capita                                    0.394603  \n",
              "Social support                                    0.456246  \n",
              "Healthy life expectancy                           0.427892  \n",
              "Freedom to make life choices                      1.000000  "
            ]
          },
          "execution_count": 25,
          "metadata": {},
          "output_type": "execute_result"
        }
      ],
      "source": [
        "joined_data.corr()"
      ]
    },
    {
      "cell_type": "code",
      "execution_count": 31,
      "metadata": {
        "colab": {
          "base_uri": "https://localhost:8080/",
          "height": 447
        },
        "id": "nos9J-UWf65T",
        "outputId": "4ad61c59-7589-491b-be80-8754291377d8"
      },
      "outputs": [
        {
          "data": {
            "text/plain": [
              "<matplotlib.collections.PathCollection at 0x13d4aaa0f90>"
            ]
          },
          "execution_count": 31,
          "metadata": {},
          "output_type": "execute_result"
        },
        {
          "data": {
            "image/png": "[encoded data removed]",
            "text/plain": [
              "<Figure size 640x480 with 1 Axes>"
            ]
          },
          "metadata": {},
          "output_type": "display_data"
        }
      ],
      "source": [
        "x= joined_data['GDP per capita']\n",
        "y= joined_data['Max_infection_rates']\n",
        "plt.scatter(x,y)"
      ]
    },
    {
      "cell_type": "code",
      "execution_count": 27,
      "metadata": {
        "colab": {
          "base_uri": "https://localhost:8080/",
          "height": 447
        },
        "id": "Wk1wrS2TZBOM",
        "outputId": "0955d4c2-79b7-4d98-880f-c300cb93d63b"
      },
      "outputs": [
        {
          "data": {
            "text/plain": [
              "<matplotlib.collections.PathCollection at 0x13d4a8f0cd0>"
            ]
          },
          "execution_count": 27,
          "metadata": {},
          "output_type": "execute_result"
        },
        {
          "data": {
            "image/png": "[encoded data removed]",
            "text/plain": [
              "<Figure size 640x480 with 1 Axes>"
            ]
          },
          "metadata": {},
          "output_type": "display_data"
        }
      ],
      "source": [
        "x= joined_data['GDP per capita']\n",
        "y= joined_data['Max_infection_rates']\n",
        "plt.scatter(x,np.log(y))"
      ]
    },
    {
      "cell_type": "code",
      "execution_count": 32,
      "metadata": {
        "colab": {
          "base_uri": "https://localhost:8080/",
          "height": 311
        },
        "id": "9HE8GCfzYnEg",
        "outputId": "cf238763-378c-46bc-f446-17b2bb79b7e8"
      },
      "outputs": [
        {
          "data": {
            "text/plain": [
              "<Axes: xlabel='GDP per capita', ylabel='Max_infection_rates'>"
            ]
          },
          "execution_count": 32,
          "metadata": {},
          "output_type": "execute_result"
        },
        {
          "data": {
            "image/png": "[encoded data removed]",
            "text/plain": [
              "<Figure size 640x480 with 1 Axes>"
            ]
          },
          "metadata": {},
          "output_type": "display_data"
        }
      ],
      "source": [
        "sns.regplot(x=x, y=np.log(y))"
      ]
    },
    {
      "cell_type": "code",
      "execution_count": 33,
      "metadata": {
        "id": "FdWvB7t7YnHp"
      },
      "outputs": [
        {
          "data": {
            "text/plain": [
              "<matplotlib.collections.PathCollection at 0x13d4c2537d0>"
            ]
          },
          "execution_count": 33,
          "metadata": {},
          "output_type": "execute_result"
        },
        {
          "data": {
            "image/png": "[encoded data removed]",
            "text/plain": [
              "<Figure size 640x480 with 1 Axes>"
            ]
          },
          "metadata": {},
          "output_type": "display_data"
        }
      ],
      "source": [
        "x= joined_data['Social support']\n",
        "y= joined_data['Max_infection_rates']\n",
        "plt.scatter(x,np.log(y))"
      ]
    },
    {
      "cell_type": "code",
      "execution_count": 34,
      "metadata": {
        "id": "cTKcSolCYnKN"
      },
      "outputs": [
        {
          "data": {
            "text/plain": [
              "<Axes: xlabel='Social support', ylabel='Max_infection_rates'>"
            ]
          },
          "execution_count": 34,
          "metadata": {},
          "output_type": "execute_result"
        },
        {
          "data": {
            "image/png": "[encoded data removed]",
            "text/plain": [
              "<Figure size 640x480 with 1 Axes>"
            ]
          },
          "metadata": {},
          "output_type": "display_data"
        }
      ],
      "source": [
        "sns.regplot(x=x, y=np.log(y))"
      ]
    },
    {
      "cell_type": "code",
      "execution_count": 35,
      "metadata": {},
      "outputs": [
        {
          "data": {
            "text/plain": [
              "<matplotlib.collections.PathCollection at 0x13d4c2e6850>"
            ]
          },
          "execution_count": 35,
          "metadata": {},
          "output_type": "execute_result"
        },
        {
          "data": {
            "image/png": "[encoded data removed]",
            "text/plain": [
              "<Figure size 640x480 with 1 Axes>"
            ]
          },
          "metadata": {},
          "output_type": "display_data"
        }
      ],
      "source": [
        "x= joined_data['Healthy life expectancy']\n",
        "y= joined_data['Max_infection_rates']\n",
        "plt.scatter(x,np.log(y))\n"
      ]
    },
    {
      "cell_type": "code",
      "execution_count": 36,
      "metadata": {},
      "outputs": [
        {
          "data": {
            "text/plain": [
              "<Axes: xlabel='Healthy life expectancy', ylabel='Max_infection_rates'>"
            ]
          },
          "execution_count": 36,
          "metadata": {},
          "output_type": "execute_result"
        },
        {
          "data": {
            "image/png": "[encoded data removed]",
            "text/plain": [
              "<Figure size 640x480 with 1 Axes>"
            ]
          },
          "metadata": {},
          "output_type": "display_data"
        }
      ],
      "source": [
        "sns.regplot(x=x, y=np.log(y))"
      ]
    },
    {
      "cell_type": "code",
      "execution_count": 37,
      "metadata": {},
      "outputs": [
        {
          "data": {
            "text/plain": [
              "<matplotlib.collections.PathCollection at 0x13d4c3b3750>"
            ]
          },
          "execution_count": 37,
          "metadata": {},
          "output_type": "execute_result"
        },
        {
          "data": {
            "image/png": "[encoded data removed]",
            "text/plain": [
              "<Figure size 640x480 with 1 Axes>"
            ]
          },
          "metadata": {},
          "output_type": "display_data"
        }
      ],
      "source": [
        "x= joined_data['Freedom to make life choices']\n",
        "y= joined_data['Max_infection_rates']\n",
        "plt.scatter(x,np.log(y))"
      ]
    },
    {
      "cell_type": "code",
      "execution_count": 38,
      "metadata": {},
      "outputs": [
        {
          "data": {
            "text/plain": [
              "<Axes: xlabel='Freedom to make life choices', ylabel='Max_infection_rates'>"
            ]
          },
          "execution_count": 38,
          "metadata": {},
          "output_type": "execute_result"
        },
        {
          "data": {
            "image/png": "[encoded data removed]",
            "text/plain": [
              "<Figure size 640x480 with 1 Axes>"
            ]
          },
          "metadata": {},
          "output_type": "display_data"
        }
      ],
      "source": [
        "sns.regplot(x=x, y=np.log(y))"
      ]
    },
    {
      "cell_type": "code",
      "execution_count": null,
      "metadata": {},
      "outputs": [],
      "source": []
    }
  ],
  "metadata": {
    "colab": {
      "provenance": []
    },
    "kernelspec": {
      "display_name": "Python 3",
      "name": "python3"
    },
    "language_info": {
      "codemirror_mode": {
        "name": "ipython",
        "version": 3
      },
      "file_extension": ".py",
      "mimetype": "text/x-python",
      "name": "python",
      "nbconvert_exporter": "python",
      "pygments_lexer": "ipython3",
      "version": "3.11.1"
    }
  },
  "nbformat": 4,
  "nbformat_minor": 0
}
